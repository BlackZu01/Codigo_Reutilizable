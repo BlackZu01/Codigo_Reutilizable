{
  "nbformat": 4,
  "nbformat_minor": 0,
  "metadata": {
    "colab": {
      "name": "numero_Primo.ipynb",
      "provenance": [],
      "authorship_tag": "ABX9TyNh1bg1G23+/NDFJM6GenbH",
      "include_colab_link": true
    },
    "kernelspec": {
      "name": "python3",
      "display_name": "Python 3"
    }
  },
  "cells": [
    {
      "cell_type": "markdown",
      "metadata": {
        "id": "view-in-github",
        "colab_type": "text"
      },
      "source": [
        "<a href=\"https://colab.research.google.com/github/BlackZu01/Codigo_Reutilizable/blob/main/numero_Primo.ipynb\" target=\"_parent\"><img src=\"https://colab.research.google.com/assets/colab-badge.svg\" alt=\"Open In Colab\"/></a>"
      ]
    },
    {
      "cell_type": "code",
      "metadata": {
        "colab": {
          "base_uri": "https://localhost:8080/"
        },
        "id": "Fjd0Y521L4Bn",
        "outputId": "ae9015ac-8fb5-449b-a3ca-149923ef8a42"
      },
      "source": [
        "def esPrimo(p):\n",
        "    if p < 1:\n",
        "        return False\n",
        "    elif p == 2:\n",
        "        return True\n",
        "    else:\n",
        "        for i in range(2, p):\n",
        "            if p % i == 0:\n",
        "                return False\n",
        "        return True            \n",
        "\n",
        "numero_Primo = int(input('Ingrese un valor: '))\n",
        "print(esPrimo(numero_Primo))"
      ],
      "execution_count": 7,
      "outputs": [
        {
          "output_type": "stream",
          "text": [
            "Ingrese un valor: 7\n",
            "True\n"
          ],
          "name": "stdout"
        }
      ]
    },
    {
      "cell_type": "code",
      "metadata": {
        "id": "kiNmwLLuMhUD"
      },
      "source": [
        ""
      ],
      "execution_count": null,
      "outputs": []
    }
  ]
}